{
  "nbformat": 4,
  "nbformat_minor": 0,
  "metadata": {
    "colab": {
      "provenance": []
    },
    "kernelspec": {
      "name": "python3",
      "display_name": "Python 3"
    },
    "language_info": {
      "name": "python"
    }
  },
  "cells": [
    {
      "cell_type": "code",
      "execution_count": null,
      "metadata": {
        "id": "IrcO_4D1TjXR"
      },
      "outputs": [],
      "source": [
        "import pandas as pd\n",
        "import torch\n",
        "import torch.nn.functional as F\n",
        "import matplotlib.pyplot as plt\n",
        "%matplotlib inline"
      ]
    },
    {
      "cell_type": "code",
      "source": [
        "with open('drake_lyrics.txt', 'r') as file:\n",
        "    lines = file.readlines()\n",
        "\n",
        "# Initialize a list to store cleaned lyrics\n",
        "lyrs = []\n",
        "\n",
        "for line in lines:\n",
        "    line = line.replace('\\u2005', ' ').replace('\\u205f', ' ')\n",
        "    line = line.replace('+','').replace('à','a').replace('á','').replace('è','e').replace('é', 'e').replace('ñ','n').replace('ó','o').replace('ú','u')\n",
        "    line = line.strip()  # Remove whitespace\n",
        "    if \"[\" in line or \"]\" in line or \"*\" in line or not line: # Skip lines with brackets or empty or stars\n",
        "        continue\n",
        "    line = line.replace('\"', '')\n",
        "    lyrs.append(line)\n",
        "len(lyrs)\n",
        "lyrs[:5]"
      ],
      "metadata": {
        "colab": {
          "base_uri": "https://localhost:8080/"
        },
        "id": "S2EwQ-oDXY0Y",
        "outputId": "baaa4e3f-9a2f-4f78-ffa8-69a41ab998dd"
      },
      "execution_count": null,
      "outputs": [
        {
          "output_type": "execute_result",
          "data": {
            "text/plain": [
              "['Put my feelings on ice',\n",
              " 'Always been a gem',\n",
              " 'Certified lover boy, somehow still heartless',\n",
              " \"Heart is only gettin' colder\",\n",
              " 'Hands are tied']"
            ]
          },
          "metadata": {},
          "execution_count": 493
        }
      ]
    },
    {
      "cell_type": "code",
      "source": [
        "chars = sorted(list(set(''.join(lyrs))))\n",
        "stoi = {s:i+1 for i,s in enumerate(chars)}\n",
        "stoi['@'] = 0\n",
        "itos = {i:s for s,i in stoi.items()}\n",
        "print(itos)"
      ],
      "metadata": {
        "colab": {
          "base_uri": "https://localhost:8080/"
        },
        "id": "Ex5W36qkhgH_",
        "outputId": "7b438c75-40f9-4368-ff21-628cf54341fb"
      },
      "execution_count": null,
      "outputs": [
        {
          "output_type": "stream",
          "name": "stdout",
          "text": [
            "{1: ' ', 2: '!', 3: '$', 4: '%', 5: '&', 6: \"'\", 7: '(', 8: ')', 9: ',', 10: '-', 11: '.', 12: '/', 13: '0', 14: '1', 15: '2', 16: '3', 17: '4', 18: '5', 19: '6', 20: '7', 21: '8', 22: '9', 23: ':', 24: ';', 25: '?', 26: 'A', 27: 'B', 28: 'C', 29: 'D', 30: 'E', 31: 'F', 32: 'G', 33: 'H', 34: 'I', 35: 'J', 36: 'K', 37: 'L', 38: 'M', 39: 'N', 40: 'O', 41: 'P', 42: 'Q', 43: 'R', 44: 'S', 45: 'T', 46: 'U', 47: 'V', 48: 'W', 49: 'X', 50: 'Y', 51: 'Z', 52: '_', 53: 'a', 54: 'b', 55: 'c', 56: 'd', 57: 'e', 58: 'f', 59: 'g', 60: 'h', 61: 'i', 62: 'j', 63: 'k', 64: 'l', 65: 'm', 66: 'n', 67: 'o', 68: 'p', 69: 'q', 70: 'r', 71: 's', 72: 't', 73: 'u', 74: 'v', 75: 'w', 76: 'x', 77: 'y', 78: 'z', 79: '{', 80: '|', 81: '}', 82: '–', 83: '—', 84: '‘', 85: '’', 86: '“', 87: '”', 88: '…', 0: '@'}\n"
          ]
        }
      ]
    },
    {
      "cell_type": "code",
      "source": [
        "# build the dataset\n",
        "block_size = 6 # context length\n",
        "\n",
        "def build_dataset(lyrs):\n",
        "    X, Y = [], []\n",
        "    for l in lyrs:\n",
        "        context = [0] * block_size  # Initialize a context with zeros\n",
        "        for ch in l + '@':\n",
        "            ix = stoi[ch]  # Map character to integer using stoi\n",
        "            X.append(context)\n",
        "            Y.append(ix)\n",
        "            context = context[1:] + [ix]  # Crop and append\n",
        "\n",
        "    X = torch.tensor(X)\n",
        "    Y = torch.tensor(Y)\n",
        "    print(X.shape, Y.shape)\n",
        "    return X, Y\n",
        "\n",
        "import random\n",
        "random.seed(42)\n",
        "random.shuffle(lyrs)\n",
        "n1 = int(0.8*len(lyrs))\n",
        "n2 = int(0.9*len(lyrs))\n",
        "\n",
        "Xtr, Ytr = build_dataset(lyrs[:n1])\n",
        "Xdev, Ydev = build_dataset(lyrs[n1:n2])\n",
        "Xte, Yte = build_dataset(lyrs[n2:])"
      ],
      "metadata": {
        "colab": {
          "base_uri": "https://localhost:8080/"
        },
        "id": "eMxVmRAeogb2",
        "outputId": "4cca7abe-b34d-4352-f588-553dc93d59c4"
      },
      "execution_count": null,
      "outputs": [
        {
          "output_type": "stream",
          "name": "stdout",
          "text": [
            "torch.Size([588842, 6]) torch.Size([588842])\n",
            "torch.Size([72151, 6]) torch.Size([72151])\n",
            "torch.Size([74706, 6]) torch.Size([74706])\n"
          ]
        }
      ]
    },
    {
      "cell_type": "code",
      "source": [
        "tensor_decode = Ytr[:1000]\n",
        "decoded_text = ''.join([itos[int(i)] for i in tensor_decode])\n",
        "decoded_text"
      ],
      "metadata": {
        "colab": {
          "base_uri": "https://localhost:8080/",
          "height": 160
        },
        "id": "cZCIyyjHp2ca",
        "outputId": "d031a423-d1f1-4525-a698-bdd17b1c2c5f"
      },
      "execution_count": null,
      "outputs": [
        {
          "output_type": "execute_result",
          "data": {
            "text/plain": [
              "\"And shittin on the men they get engaged to@Waved up, goin' up, glowin' up, growin' up@Maybe I'm hearing things cause I'm feeling like I'm faded@You know what I'm@Of somethin fast and I'm good man I'm easy to please@Having conversations with mama, man, my life is a mess@I was looking for the one@You niggas sweet, like the pussy in which I eat@Despite what you said, despite what you choose to do with yourself this summer@I just set the bar, niggas fall under it like a limbo@Aw, yeah, yeah, yeah@And then they start to R.I.P. about it@All my G's are blessed, we check in for them@These niggas make it so hard to be friendly@And I'll be the only one she concerned with@I don't get it, it's like my fairy was sick@Yeah Trendsetters@All you do is lie to me@I know rappers that call paparazzi to come and get 'em@I am convinced that my calls are being recorded@LOLOL, I'm glad you find this shit amusin'@Man really feel no ways, these man waste@I'm just gettin' started, oh, yeah, we got it bitch@Check\""
            ],
            "application/vnd.google.colaboratory.intrinsic+json": {
              "type": "string"
            }
          },
          "metadata": {},
          "execution_count": 496
        }
      ]
    },
    {
      "cell_type": "code",
      "source": [
        "output_size = 89\n",
        "embed_dims = 12\n",
        "fc_neurons = 250\n",
        "\n",
        "g = torch.Generator().manual_seed(2147483647) # for reproducibility\n",
        "C = torch.randn((output_size, embed_dims), generator = g)\n",
        "W1 = torch.randn((block_size*embed_dims, fc_neurons), generator = g) #6, 100\n",
        "b1 = torch.randn(fc_neurons, generator = g) #100\n",
        "W2 = torch.randn((fc_neurons, output_size), generator = g) #100, 89\n",
        "b2 = torch.randn(output_size, generator = g) #89\n",
        "params = [C, W1, b1, W2, b2]\n",
        "sum(p.nelement() for p in params)"
      ],
      "metadata": {
        "colab": {
          "base_uri": "https://localhost:8080/"
        },
        "id": "FS4tC0Kn-g6b",
        "outputId": "cdecf059-ebf1-494c-bbb4-e549dcceab46"
      },
      "execution_count": null,
      "outputs": [
        {
          "output_type": "execute_result",
          "data": {
            "text/plain": [
              "41657"
            ]
          },
          "metadata": {},
          "execution_count": 497
        }
      ]
    },
    {
      "cell_type": "code",
      "source": [
        "C[Xtr.int()].shape\n",
        "#Xtr[13,2]\n",
        "#C[Xtr][13,2] == C[67]"
      ],
      "metadata": {
        "colab": {
          "base_uri": "https://localhost:8080/"
        },
        "id": "3HC0FE_mdeAN",
        "outputId": "c9f5d5d3-af01-4a6f-ed9d-8c668a5d7ce5"
      },
      "execution_count": null,
      "outputs": [
        {
          "output_type": "execute_result",
          "data": {
            "text/plain": [
              "torch.Size([588842, 6, 12])"
            ]
          },
          "metadata": {},
          "execution_count": 498
        }
      ]
    },
    {
      "cell_type": "code",
      "source": [
        "for p in params:\n",
        "  p.requires_grad = True"
      ],
      "metadata": {
        "id": "XN1VD5RicDXH"
      },
      "execution_count": null,
      "outputs": []
    },
    {
      "cell_type": "code",
      "source": [
        "lre = torch.linspace(-3, 0, 1000)\n",
        "lrs = 10**lre\n",
        "lri = []\n",
        "lossi = []\n",
        "stepi = []"
      ],
      "metadata": {
        "id": "-s7hvoUyCU4i"
      },
      "execution_count": null,
      "outputs": []
    },
    {
      "cell_type": "code",
      "source": [
        "for i in range (400000):\n",
        "\n",
        "  ix = torch.randint(0, Xtr.shape[0], (64,))\n",
        "\n",
        "  #forward pass\n",
        "  emb = C[Xtr[ix]]\n",
        "  h = torch.tanh(emb.view(-1,embed_dims*block_size) @ W1 + b1)\n",
        "  logits = h @ W2 + b2\n",
        "  loss = F.cross_entropy(logits, Ytr[ix])\n",
        "  #backward pass\n",
        "  for p in params:\n",
        "    p.grad = None\n",
        "  loss.backward()\n",
        "\n",
        "  lr = 0.1 if i < 100000 else 0.01\n",
        "  for p in params:\n",
        "    p.data += -lr * p.grad\n",
        "\n",
        "  #lr = lrs[i]\n",
        "  stepi.append(i)\n",
        "  lossi.append(loss.log10().item())\n",
        "\n",
        "print(loss.item())"
      ],
      "metadata": {
        "colab": {
          "base_uri": "https://localhost:8080/"
        },
        "id": "Rr35Flv2CM9F",
        "outputId": "29869c4e-36eb-4ab5-a777-37ee87823fa1"
      },
      "execution_count": null,
      "outputs": [
        {
          "output_type": "stream",
          "name": "stdout",
          "text": [
            "1.7343791723251343\n"
          ]
        }
      ]
    },
    {
      "cell_type": "code",
      "source": [
        "plt.plot(stepi, lossi)"
      ],
      "metadata": {
        "colab": {
          "base_uri": "https://localhost:8080/",
          "height": 448
        },
        "id": "jn7sxCzFqjFE",
        "outputId": "82d3b380-eae7-4f09-90a2-c51f7e9f985e"
      },
      "execution_count": null,
      "outputs": [
        {
          "output_type": "execute_result",
          "data": {
            "text/plain": [
              "[<matplotlib.lines.Line2D at 0x78bd3b630b80>]"
            ]
          },
          "metadata": {},
          "execution_count": 502
        },
        {
          "output_type": "display_data",
          "data": {
            "text/plain": [
              "<Figure size 640x480 with 1 Axes>"
            ],
            "image/png": "[encoded data removed]"
          },
          "metadata": {}
        }
      ]
    },
    {
      "cell_type": "code",
      "source": [
        "C[Xtr].shape\n",
        "p.grad.shape\n",
        "p.data.shape"
      ],
      "metadata": {
        "colab": {
          "base_uri": "https://localhost:8080/"
        },
        "id": "qp8sibEdbiGY",
        "outputId": "a07cff6b-09d5-4e3d-e49d-3599a195733a"
      },
      "execution_count": null,
      "outputs": [
        {
          "output_type": "execute_result",
          "data": {
            "text/plain": [
              "torch.Size([89])"
            ]
          },
          "metadata": {},
          "execution_count": 436
        }
      ]
    },
    {
      "cell_type": "code",
      "source": [
        "plt.figure(figsize=(8,8))\n",
        "plt.scatter(C[:,0].data, C[:,1].data, s=200)\n",
        "for i in range(C.shape[0]):\n",
        "    plt.text(C[i,0].item(), C[i,1].item(), itos[i], ha=\"center\", va=\"center\", color='white')\n",
        "plt.grid('minor')"
      ],
      "metadata": {
        "colab": {
          "base_uri": "https://localhost:8080/",
          "height": 676
        },
        "id": "39AcMngIhR7p",
        "outputId": "d6c10a60-c918-4e72-dfee-59fc9afae416"
      },
      "execution_count": null,
      "outputs": [
        {
          "output_type": "display_data",
          "data": {
            "text/plain": [
              "<Figure size 800x800 with 1 Axes>"
            ],
            "image/png": "[encoded data removed]"
          },
          "metadata": {}
        }
      ]
    },
    {
      "cell_type": "code",
      "source": [
        "g = torch.Generator().manual_seed(2147483647 + 9)\n",
        "\n",
        "for _ in range(20):\n",
        "\n",
        "    out = []\n",
        "    context = [0] * block_size # initialize with all ...\n",
        "    while True:\n",
        "      emb = C[torch.tensor([context])] # (1,block_size,d)\n",
        "      h = torch.tanh(emb.view(1, -1) @ W1 + b1)\n",
        "      logits = h @ W2 + b2\n",
        "      probs = F.softmax(logits, dim=1)\n",
        "      ix = torch.multinomial(probs, num_samples=1, generator=g).item()\n",
        "      context = context[1:] + [ix]\n",
        "      out.append(ix)\n",
        "      if ix == 0:\n",
        "        break\n",
        "\n",
        "    print(''.join(itos[i] for i in out))"
      ],
      "metadata": {
        "colab": {
          "base_uri": "https://localhost:8080/"
        },
        "id": "OgBu6JQ8n6WB",
        "outputId": "63ec6190-fca7-4f1b-8891-710b02e34626"
      },
      "execution_count": null,
      "outputs": [
        {
          "output_type": "stream",
          "name": "stdout",
          "text": [
            "That's oinat@\n",
            "Hadoin'@\n",
            "Gitte to lauthere to nome toam, no in@\n",
            "Fuck you're ceing piked, Land you the noO pame, wata shis@\n",
            "What watringsa, dos, sar'lfe@\n",
            "Oh, ool eper you te!@\n",
            "I just stang@\n",
            "Lout you'r fiid witherepiy' too I cana tansom ohveb@\n",
            "Youth I cant my that fo@\n",
            "We got we tos@\n",
            "Caw done' not this to, won't a tarl@\n",
            "It's things it@\n",
            "Baby you gats hers the see lup it, woule@\n",
            "That's ofceverat-ak?, thy tay she sike money bige pee sin't the woul kfomanging tay when I’m your leeps ane het over us, it exrold qiy-rhir to ope@\n",
            "Loving you tar the tilferin'l, boure a hlus@\n",
            "We youyw hit place@\n",
            "Be to came the is ticine, to seeps@\n",
            "Oh the I'll the trather the aore@\n",
            "Show an they toa, bavep off at@\n",
            "Because niggs@\n"
          ]
        }
      ]
    },
    {
      "cell_type": "code",
      "source": [
        "sum( map(len, lyrs) ) / len(lyrs) #avg length of string"
      ],
      "metadata": {
        "colab": {
          "base_uri": "https://localhost:8080/"
        },
        "id": "RSeHckv1oJei",
        "outputId": "fbc9657d-4398-47f9-823d-61521871f9ca"
      },
      "execution_count": null,
      "outputs": [
        {
          "output_type": "execute_result",
          "data": {
            "text/plain": [
              "40.89629840546697"
            ]
          },
          "metadata": {},
          "execution_count": 491
        }
      ]
    },
    {
      "cell_type": "code",
      "source": [],
      "metadata": {
        "id": "KWU31pD4PtfE"
      },
      "execution_count": null,
      "outputs": []
    }
  ]
}